{
 "cells": [
  {
   "cell_type": "code",
   "execution_count": 74,
   "id": "283e0dca-9f50-46ed-b167-c206150f6ff6",
   "metadata": {},
   "outputs": [
    {
     "name": "stdout",
     "output_type": "stream",
     "text": [
      "['Popularity', 'Title', 'Genre', 'User Rating', 'Number of Votes', 'Runtime', 'Year', 'Summary', 'Director', 'Stars', 'Certificate']\n"
     ]
    }
   ],
   "source": [
    "import pandas as pd\n",
    "from sklearn.ensemble import RandomForestRegressor\n",
    "from sklearn.metrics import mean_absolute_error\n",
    "from sklearn.model_selection import train_test_split\n",
    "\n",
    "# Load the data, and separate the target\n",
    "game_file_path = r\"C:\\Users\\rynoc\\imdb_video_games.csv\"\n",
    "game_data = pd.read_csv(game_file_path)\n",
    "# get traing features\n",
    "col_names = list(game_data)\n",
    "print(col_names)\n",
    "game_data['User Rating'].fillna(0, inplace=True)\n",
    "y = game_data['User Rating']"
   ]
  },
  {
   "cell_type": "code",
   "execution_count": 75,
   "id": "180fe07b-26a5-4126-8e86-cc4f42da829f",
   "metadata": {},
   "outputs": [
    {
     "name": "stdout",
     "output_type": "stream",
     "text": [
      "['Popularity', 'Title', 'Genre', 'User Rating', 'Number of Votes', 'Runtime', 'Year', 'Summary', 'Director', 'Stars', 'Certificate', 'Genre1', 'Genre3', 'SubGenre_ Action', 'SubGenre_ Adventure', 'SubGenre_ Animation', 'SubGenre_ Comedy', 'SubGenre_ Crime', 'SubGenre_ Drama', 'SubGenre_ Family', 'SubGenre_ Fantasy', 'SubGenre_ Game-Show', 'SubGenre_ History', 'SubGenre_ Horror', 'SubGenre_ Music', 'SubGenre_ Musical', 'SubGenre_ Mystery', 'SubGenre_ Romance', 'SubGenre_ Sci-Fi', 'SubGenre_ Short', 'SubGenre_ Sport', 'SubGenre_ Thriller', 'SubGenre_ War', 'SubGenre_ Western']\n"
     ]
    }
   ],
   "source": [
    "#Splite Sub_genres into indivdual columns\n",
    "game_data_split = game_data['Genre'].str.split(',', expand=True)\n",
    "game_data_split.head(1)\n",
    "game_data_split.columns = ['Genre1', 'Genre2', 'Genre3']\n",
    "\n",
    "game_data_app = pd.concat([game_data, game_data_split], axis=1)\n",
    "game_data_app.head(1)\n",
    "\n",
    "# Create dummy variables for sub-genre\n",
    "game_data_num = pd.get_dummies(game_data_app, columns=['Genre2'], prefix=['SubGenre'])\n",
    "game_data_num.head(1)\n",
    "print(list(game_data_num))"
   ]
  },
  {
   "cell_type": "code",
   "execution_count": 76,
   "id": "6b40244f-c149-4a6e-b2ff-ec44f44ebef3",
   "metadata": {},
   "outputs": [
    {
     "data": {
      "text/html": [
       "<div>\n",
       "<style scoped>\n",
       "    .dataframe tbody tr th:only-of-type {\n",
       "        vertical-align: middle;\n",
       "    }\n",
       "\n",
       "    .dataframe tbody tr th {\n",
       "        vertical-align: top;\n",
       "    }\n",
       "\n",
       "    .dataframe thead th {\n",
       "        text-align: right;\n",
       "    }\n",
       "</style>\n",
       "<table border=\"1\" class=\"dataframe\">\n",
       "  <thead>\n",
       "    <tr style=\"text-align: right;\">\n",
       "      <th></th>\n",
       "      <th>Popularity</th>\n",
       "      <th>Title</th>\n",
       "      <th>Genre</th>\n",
       "      <th>User Rating</th>\n",
       "      <th>Number of Votes</th>\n",
       "      <th>Runtime</th>\n",
       "      <th>Year</th>\n",
       "      <th>Summary</th>\n",
       "      <th>Director</th>\n",
       "      <th>Stars</th>\n",
       "      <th>...</th>\n",
       "      <th>SubGenre_ Music</th>\n",
       "      <th>SubGenre_ Musical</th>\n",
       "      <th>SubGenre_ Mystery</th>\n",
       "      <th>SubGenre_ Romance</th>\n",
       "      <th>SubGenre_ Sci-Fi</th>\n",
       "      <th>SubGenre_ Short</th>\n",
       "      <th>SubGenre_ Sport</th>\n",
       "      <th>SubGenre_ Thriller</th>\n",
       "      <th>SubGenre_ War</th>\n",
       "      <th>SubGenre_ Western</th>\n",
       "    </tr>\n",
       "  </thead>\n",
       "  <tbody>\n",
       "    <tr>\n",
       "      <th>0</th>\n",
       "      <td>0</td>\n",
       "      <td>Baldur's Gate III</td>\n",
       "      <td>Action, Adventure, Fantasy</td>\n",
       "      <td>9.8</td>\n",
       "      <td>1130</td>\n",
       "      <td>NaN</td>\n",
       "      <td>2023.0</td>\n",
       "      <td>Return to the Faerun in a tale of fellowship a...</td>\n",
       "      <td>Swen Vincke,</td>\n",
       "      <td>Amelia Tyler, Neil Newbon, Jennifer English, D...</td>\n",
       "      <td>...</td>\n",
       "      <td>0</td>\n",
       "      <td>0</td>\n",
       "      <td>0</td>\n",
       "      <td>0</td>\n",
       "      <td>0</td>\n",
       "      <td>0</td>\n",
       "      <td>0</td>\n",
       "      <td>0</td>\n",
       "      <td>0</td>\n",
       "      <td>0</td>\n",
       "    </tr>\n",
       "  </tbody>\n",
       "</table>\n",
       "<p>1 rows × 34 columns</p>\n",
       "</div>"
      ],
      "text/plain": [
       "   Popularity              Title                       Genre  User Rating  \\\n",
       "0           0  Baldur's Gate III  Action, Adventure, Fantasy          9.8   \n",
       "\n",
       "   Number of Votes Runtime    Year  \\\n",
       "0             1130     NaN  2023.0   \n",
       "\n",
       "                                             Summary      Director  \\\n",
       "0  Return to the Faerun in a tale of fellowship a...  Swen Vincke,   \n",
       "\n",
       "                                               Stars  ... SubGenre_ Music  \\\n",
       "0  Amelia Tyler, Neil Newbon, Jennifer English, D...  ...               0   \n",
       "\n",
       "  SubGenre_ Musical SubGenre_ Mystery  SubGenre_ Romance  SubGenre_ Sci-Fi  \\\n",
       "0                 0                 0                  0                 0   \n",
       "\n",
       "   SubGenre_ Short  SubGenre_ Sport  SubGenre_ Thriller  SubGenre_ War  \\\n",
       "0                0                0                   0              0   \n",
       "\n",
       "   SubGenre_ Western  \n",
       "0                  0  \n",
       "\n",
       "[1 rows x 34 columns]"
      ]
     },
     "execution_count": 76,
     "metadata": {},
     "output_type": "execute_result"
    }
   ],
   "source": [
    "\n",
    "\n",
    "#clean data: take out non-numberical entries, replace with ints\n",
    "game_data_num['Number of Votes'] = game_data_num['Number of Votes'].str.replace(',', '').replace('', '0').fillna(0).astype(int)\n",
    "game_data_num['Popularity'].fillna(0, inplace=True)\n",
    "game_data_num['Number of Votes'].fillna(0, inplace=True)\n",
    "game_data_num['Year'].fillna(0, inplace=True)\n",
    "\n",
    "#print(game_data_num.dtypes)\n",
    "game_data_num.head(1)"
   ]
  },
  {
   "cell_type": "code",
   "execution_count": 77,
   "id": "20221db2-e683-42c7-8b6f-a531be2251bd",
   "metadata": {},
   "outputs": [],
   "source": [
    "#List of updated features to train on\n",
    "features = ['Popularity', 'Number of Votes', 'Year', 'SubGenre_ Adventure', 'SubGenre_ Animation', 'SubGenre_ Comedy', 'SubGenre_ Crime', \n",
    "            'SubGenre_ Drama', 'SubGenre_ Family', 'SubGenre_ Fantasy', 'SubGenre_ Game-Show', 'SubGenre_ History', 'SubGenre_ Horror', \n",
    "            'SubGenre_ Music', 'SubGenre_ Musical', 'SubGenre_ Mystery', 'SubGenre_ Romance', 'SubGenre_ Sci-Fi', 'SubGenre_ Short', 'SubGenre_ Sport', \n",
    "            'SubGenre_ Thriller', 'SubGenre_ War', 'SubGenre_ Western']\n",
    "X = game_data_num[features]"
   ]
  },
  {
   "cell_type": "code",
   "execution_count": 78,
   "id": "3011c61c-d8ed-4766-ba3a-8208d7c8d476",
   "metadata": {},
   "outputs": [
    {
     "data": {
      "text/html": [
       "<style>#sk-container-id-1 {color: black;background-color: white;}#sk-container-id-1 pre{padding: 0;}#sk-container-id-1 div.sk-toggleable {background-color: white;}#sk-container-id-1 label.sk-toggleable__label {cursor: pointer;display: block;width: 100%;margin-bottom: 0;padding: 0.3em;box-sizing: border-box;text-align: center;}#sk-container-id-1 label.sk-toggleable__label-arrow:before {content: \"▸\";float: left;margin-right: 0.25em;color: #696969;}#sk-container-id-1 label.sk-toggleable__label-arrow:hover:before {color: black;}#sk-container-id-1 div.sk-estimator:hover label.sk-toggleable__label-arrow:before {color: black;}#sk-container-id-1 div.sk-toggleable__content {max-height: 0;max-width: 0;overflow: hidden;text-align: left;background-color: #f0f8ff;}#sk-container-id-1 div.sk-toggleable__content pre {margin: 0.2em;color: black;border-radius: 0.25em;background-color: #f0f8ff;}#sk-container-id-1 input.sk-toggleable__control:checked~div.sk-toggleable__content {max-height: 200px;max-width: 100%;overflow: auto;}#sk-container-id-1 input.sk-toggleable__control:checked~label.sk-toggleable__label-arrow:before {content: \"▾\";}#sk-container-id-1 div.sk-estimator input.sk-toggleable__control:checked~label.sk-toggleable__label {background-color: #d4ebff;}#sk-container-id-1 div.sk-label input.sk-toggleable__control:checked~label.sk-toggleable__label {background-color: #d4ebff;}#sk-container-id-1 input.sk-hidden--visually {border: 0;clip: rect(1px 1px 1px 1px);clip: rect(1px, 1px, 1px, 1px);height: 1px;margin: -1px;overflow: hidden;padding: 0;position: absolute;width: 1px;}#sk-container-id-1 div.sk-estimator {font-family: monospace;background-color: #f0f8ff;border: 1px dotted black;border-radius: 0.25em;box-sizing: border-box;margin-bottom: 0.5em;}#sk-container-id-1 div.sk-estimator:hover {background-color: #d4ebff;}#sk-container-id-1 div.sk-parallel-item::after {content: \"\";width: 100%;border-bottom: 1px solid gray;flex-grow: 1;}#sk-container-id-1 div.sk-label:hover label.sk-toggleable__label {background-color: #d4ebff;}#sk-container-id-1 div.sk-serial::before {content: \"\";position: absolute;border-left: 1px solid gray;box-sizing: border-box;top: 0;bottom: 0;left: 50%;z-index: 0;}#sk-container-id-1 div.sk-serial {display: flex;flex-direction: column;align-items: center;background-color: white;padding-right: 0.2em;padding-left: 0.2em;position: relative;}#sk-container-id-1 div.sk-item {position: relative;z-index: 1;}#sk-container-id-1 div.sk-parallel {display: flex;align-items: stretch;justify-content: center;background-color: white;position: relative;}#sk-container-id-1 div.sk-item::before, #sk-container-id-1 div.sk-parallel-item::before {content: \"\";position: absolute;border-left: 1px solid gray;box-sizing: border-box;top: 0;bottom: 0;left: 50%;z-index: -1;}#sk-container-id-1 div.sk-parallel-item {display: flex;flex-direction: column;z-index: 1;position: relative;background-color: white;}#sk-container-id-1 div.sk-parallel-item:first-child::after {align-self: flex-end;width: 50%;}#sk-container-id-1 div.sk-parallel-item:last-child::after {align-self: flex-start;width: 50%;}#sk-container-id-1 div.sk-parallel-item:only-child::after {width: 0;}#sk-container-id-1 div.sk-dashed-wrapped {border: 1px dashed gray;margin: 0 0.4em 0.5em 0.4em;box-sizing: border-box;padding-bottom: 0.4em;background-color: white;}#sk-container-id-1 div.sk-label label {font-family: monospace;font-weight: bold;display: inline-block;line-height: 1.2em;}#sk-container-id-1 div.sk-label-container {text-align: center;}#sk-container-id-1 div.sk-container {/* jupyter's `normalize.less` sets `[hidden] { display: none; }` but bootstrap.min.css set `[hidden] { display: none !important; }` so we also need the `!important` here to be able to override the default hidden behavior on the sphinx rendered scikit-learn.org. See: https://github.com/scikit-learn/scikit-learn/issues/21755 */display: inline-block !important;position: relative;}#sk-container-id-1 div.sk-text-repr-fallback {display: none;}</style><div id=\"sk-container-id-1\" class=\"sk-top-container\"><div class=\"sk-text-repr-fallback\"><pre>RandomForestRegressor(random_state=1)</pre><b>In a Jupyter environment, please rerun this cell to show the HTML representation or trust the notebook. <br />On GitHub, the HTML representation is unable to render, please try loading this page with nbviewer.org.</b></div><div class=\"sk-container\" hidden><div class=\"sk-item\"><div class=\"sk-estimator sk-toggleable\"><input class=\"sk-toggleable__control sk-hidden--visually\" id=\"sk-estimator-id-1\" type=\"checkbox\" checked><label for=\"sk-estimator-id-1\" class=\"sk-toggleable__label sk-toggleable__label-arrow\">RandomForestRegressor</label><div class=\"sk-toggleable__content\"><pre>RandomForestRegressor(random_state=1)</pre></div></div></div></div></div>"
      ],
      "text/plain": [
       "RandomForestRegressor(random_state=1)"
      ]
     },
     "execution_count": 78,
     "metadata": {},
     "output_type": "execute_result"
    }
   ],
   "source": [
    "# Split into validation and training data\n",
    "train_X, val_X, train_y, val_y = train_test_split(X, y, random_state=1)\n",
    "rf_model = RandomForestRegressor(random_state=1)\n",
    "rf_model.fit(train_X, train_y)"
   ]
  },
  {
   "cell_type": "code",
   "execution_count": 79,
   "id": "631e29f5-e1ec-4871-ad86-7c3730d503b6",
   "metadata": {},
   "outputs": [
    {
     "name": "stdout",
     "output_type": "stream",
     "text": [
      "Validation MAE for Random Forest Model: 0\n"
     ]
    }
   ],
   "source": [
    "rf_val_predictions = rf_model.predict(val_X)\n",
    "rf_val_mae = mean_absolute_error(rf_val_predictions, val_y)\n",
    "\n",
    "print(\"Validation MAE for Random Forest Model: {:,.0f}\".format(rf_val_mae))"
   ]
  },
  {
   "cell_type": "code",
   "execution_count": 90,
   "id": "9fde0fdb-9c2e-4af4-81a5-63fcb18854cc",
   "metadata": {},
   "outputs": [
    {
     "name": "stdout",
     "output_type": "stream",
     "text": [
      "6620     6.3\n",
      "6189     7.0\n",
      "8499     0.0\n",
      "7392     0.0\n",
      "1005     7.6\n",
      "9549     0.0\n",
      "10480    0.0\n",
      "2987     6.7\n",
      "14578    7.7\n",
      "8260     0.0\n",
      "Name: User Rating, dtype: float64\n",
      "[6.137 6.869 0.    0.    7.44  0.    0.    7.076 5.643 0.   ]\n"
     ]
    }
   ],
   "source": [
    "first_five_pred = rf_val_predictions[:10]\n",
    "print(val_y.head(10))\n",
    "print(first_five_pred)"
   ]
  },
  {
   "cell_type": "code",
   "execution_count": 85,
   "id": "4fc747b1-ca83-47f6-b39c-02e5e51b7789",
   "metadata": {},
   "outputs": [
    {
     "data": {
      "text/html": [
       "<style>#sk-container-id-2 {color: black;background-color: white;}#sk-container-id-2 pre{padding: 0;}#sk-container-id-2 div.sk-toggleable {background-color: white;}#sk-container-id-2 label.sk-toggleable__label {cursor: pointer;display: block;width: 100%;margin-bottom: 0;padding: 0.3em;box-sizing: border-box;text-align: center;}#sk-container-id-2 label.sk-toggleable__label-arrow:before {content: \"▸\";float: left;margin-right: 0.25em;color: #696969;}#sk-container-id-2 label.sk-toggleable__label-arrow:hover:before {color: black;}#sk-container-id-2 div.sk-estimator:hover label.sk-toggleable__label-arrow:before {color: black;}#sk-container-id-2 div.sk-toggleable__content {max-height: 0;max-width: 0;overflow: hidden;text-align: left;background-color: #f0f8ff;}#sk-container-id-2 div.sk-toggleable__content pre {margin: 0.2em;color: black;border-radius: 0.25em;background-color: #f0f8ff;}#sk-container-id-2 input.sk-toggleable__control:checked~div.sk-toggleable__content {max-height: 200px;max-width: 100%;overflow: auto;}#sk-container-id-2 input.sk-toggleable__control:checked~label.sk-toggleable__label-arrow:before {content: \"▾\";}#sk-container-id-2 div.sk-estimator input.sk-toggleable__control:checked~label.sk-toggleable__label {background-color: #d4ebff;}#sk-container-id-2 div.sk-label input.sk-toggleable__control:checked~label.sk-toggleable__label {background-color: #d4ebff;}#sk-container-id-2 input.sk-hidden--visually {border: 0;clip: rect(1px 1px 1px 1px);clip: rect(1px, 1px, 1px, 1px);height: 1px;margin: -1px;overflow: hidden;padding: 0;position: absolute;width: 1px;}#sk-container-id-2 div.sk-estimator {font-family: monospace;background-color: #f0f8ff;border: 1px dotted black;border-radius: 0.25em;box-sizing: border-box;margin-bottom: 0.5em;}#sk-container-id-2 div.sk-estimator:hover {background-color: #d4ebff;}#sk-container-id-2 div.sk-parallel-item::after {content: \"\";width: 100%;border-bottom: 1px solid gray;flex-grow: 1;}#sk-container-id-2 div.sk-label:hover label.sk-toggleable__label {background-color: #d4ebff;}#sk-container-id-2 div.sk-serial::before {content: \"\";position: absolute;border-left: 1px solid gray;box-sizing: border-box;top: 0;bottom: 0;left: 50%;z-index: 0;}#sk-container-id-2 div.sk-serial {display: flex;flex-direction: column;align-items: center;background-color: white;padding-right: 0.2em;padding-left: 0.2em;position: relative;}#sk-container-id-2 div.sk-item {position: relative;z-index: 1;}#sk-container-id-2 div.sk-parallel {display: flex;align-items: stretch;justify-content: center;background-color: white;position: relative;}#sk-container-id-2 div.sk-item::before, #sk-container-id-2 div.sk-parallel-item::before {content: \"\";position: absolute;border-left: 1px solid gray;box-sizing: border-box;top: 0;bottom: 0;left: 50%;z-index: -1;}#sk-container-id-2 div.sk-parallel-item {display: flex;flex-direction: column;z-index: 1;position: relative;background-color: white;}#sk-container-id-2 div.sk-parallel-item:first-child::after {align-self: flex-end;width: 50%;}#sk-container-id-2 div.sk-parallel-item:last-child::after {align-self: flex-start;width: 50%;}#sk-container-id-2 div.sk-parallel-item:only-child::after {width: 0;}#sk-container-id-2 div.sk-dashed-wrapped {border: 1px dashed gray;margin: 0 0.4em 0.5em 0.4em;box-sizing: border-box;padding-bottom: 0.4em;background-color: white;}#sk-container-id-2 div.sk-label label {font-family: monospace;font-weight: bold;display: inline-block;line-height: 1.2em;}#sk-container-id-2 div.sk-label-container {text-align: center;}#sk-container-id-2 div.sk-container {/* jupyter's `normalize.less` sets `[hidden] { display: none; }` but bootstrap.min.css set `[hidden] { display: none !important; }` so we also need the `!important` here to be able to override the default hidden behavior on the sphinx rendered scikit-learn.org. See: https://github.com/scikit-learn/scikit-learn/issues/21755 */display: inline-block !important;position: relative;}#sk-container-id-2 div.sk-text-repr-fallback {display: none;}</style><div id=\"sk-container-id-2\" class=\"sk-top-container\"><div class=\"sk-text-repr-fallback\"><pre>RandomForestRegressor()</pre><b>In a Jupyter environment, please rerun this cell to show the HTML representation or trust the notebook. <br />On GitHub, the HTML representation is unable to render, please try loading this page with nbviewer.org.</b></div><div class=\"sk-container\" hidden><div class=\"sk-item\"><div class=\"sk-estimator sk-toggleable\"><input class=\"sk-toggleable__control sk-hidden--visually\" id=\"sk-estimator-id-2\" type=\"checkbox\" checked><label for=\"sk-estimator-id-2\" class=\"sk-toggleable__label sk-toggleable__label-arrow\">RandomForestRegressor</label><div class=\"sk-toggleable__content\"><pre>RandomForestRegressor()</pre></div></div></div></div></div>"
      ],
      "text/plain": [
       "RandomForestRegressor()"
      ]
     },
     "execution_count": 85,
     "metadata": {},
     "output_type": "execute_result"
    }
   ],
   "source": [
    "# new Random Forest model trained on all training data\n",
    "rf_model_on_full_data = RandomForestRegressor()\n",
    "\n",
    "# fit rf_model_on_full_data on all data from the training data\n",
    "rf_model_on_full_data.fit(X,y)"
   ]
  },
  {
   "cell_type": "code",
   "execution_count": null,
   "id": "8f82eb59-593e-4972-9778-11913391b5c4",
   "metadata": {},
   "outputs": [],
   "source": []
  }
 ],
 "metadata": {
  "kernelspec": {
   "display_name": "Python 3 (ipykernel)",
   "language": "python",
   "name": "python3"
  },
  "language_info": {
   "codemirror_mode": {
    "name": "ipython",
    "version": 3
   },
   "file_extension": ".py",
   "mimetype": "text/x-python",
   "name": "python",
   "nbconvert_exporter": "python",
   "pygments_lexer": "ipython3",
   "version": "3.10.9"
  }
 },
 "nbformat": 4,
 "nbformat_minor": 5
}
